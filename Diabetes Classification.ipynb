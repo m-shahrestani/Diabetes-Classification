{
  "metadata": {
    "kernelspec": {
      "language": "python",
      "display_name": "Python 3",
      "name": "python3"
    },
    "language_info": {
      "name": "python",
      "version": "3.7.12",
      "mimetype": "text/x-python",
      "codemirror_mode": {
        "name": "ipython",
        "version": 3
      },
      "pygments_lexer": "ipython3",
      "nbconvert_exporter": "python",
      "file_extension": ".py"
    },
    "colab": {
      "name": "DM_FP_9728054.ipynb",
      "provenance": []
    }
  },
  "nbformat_minor": 0,
  "nbformat": 4,
  "cells": [
    {
      "cell_type": "code",
      "source": [
        "import numpy as np\n",
        "import pandas as pd\n",
        "import matplotlib.pyplot as plt\n",
        "from sklearn.model_selection import train_test_split\n",
        "from xgboost import XGBClassifier\n",
        "from sklearn.metrics import classification_report\n",
        "from sklearn.metrics import confusion_matrix\n",
        "from sklearn.model_selection import GridSearchCV\n",
        "from sklearn.metrics import roc_auc_score"
      ],
      "metadata": {
        "id": "fha-7bOQ2RIH",
        "execution": {
          "iopub.status.busy": "2022-07-01T23:37:24.685431Z",
          "iopub.execute_input": "2022-07-01T23:37:24.685882Z",
          "iopub.status.idle": "2022-07-01T23:37:24.693224Z",
          "shell.execute_reply.started": "2022-07-01T23:37:24.685849Z",
          "shell.execute_reply": "2022-07-01T23:37:24.691561Z"
        },
        "trusted": true
      },
      "execution_count": 4,
      "outputs": []
    },
    {
      "cell_type": "markdown",
      "source": [
        "ابتدا داده‌ها را از دیتاست می‌‌خوانیم."
      ],
      "metadata": {
        "id": "Lg804lar2AoR"
      }
    },
    {
      "cell_type": "code",
      "source": [
        "ds = pd.read_csv('/content/diabetes.csv')"
      ],
      "metadata": {
        "id": "Qg6dBshW177v",
        "execution": {
          "iopub.status.busy": "2022-07-01T23:37:28.621172Z",
          "iopub.execute_input": "2022-07-01T23:37:28.621577Z",
          "iopub.status.idle": "2022-07-01T23:37:28.822613Z",
          "shell.execute_reply.started": "2022-07-01T23:37:28.621521Z",
          "shell.execute_reply": "2022-07-01T23:37:28.821203Z"
        },
        "trusted": true
      },
      "execution_count": 5,
      "outputs": []
    },
    {
      "cell_type": "markdown",
      "source": [
        "همان طور که مشاهده‌ می شود داده‌های پوچ وجود دارند."
      ],
      "metadata": {
        "id": "uERYcn6ZAQjb"
      }
    },
    {
      "cell_type": "code",
      "source": [
        "ds.isna().sum()"
      ],
      "metadata": {
        "id": "pu_W576iATQq",
        "outputId": "a32c086b-d51e-4b23-deed-7e4882307e92",
        "execution": {
          "iopub.status.busy": "2022-07-01T23:37:30.412695Z",
          "iopub.execute_input": "2022-07-01T23:37:30.413083Z",
          "iopub.status.idle": "2022-07-01T23:37:30.454368Z",
          "shell.execute_reply.started": "2022-07-01T23:37:30.413050Z",
          "shell.execute_reply": "2022-07-01T23:37:30.452733Z"
        },
        "trusted": true,
        "colab": {
          "base_uri": "https://localhost:8080/"
        }
      },
      "execution_count": 6,
      "outputs": [
        {
          "output_type": "execute_result",
          "data": {
            "text/plain": [
              "Unnamed: 0                   0\n",
              "Diabetes_binary              0\n",
              "HighBP                       0\n",
              "High Cholesterol             0\n",
              "Cholesterol Check            0\n",
              "BMI                          1\n",
              "Smoker                       0\n",
              "Stroke                       0\n",
              "HeartDiseaseorAttack         1\n",
              "Physical Activity            1\n",
              "Fruits                       2\n",
              "Veggies                      1\n",
              "Heavy Alcohol Consumption    1\n",
              "Any Health Care              2\n",
              "No Doctor because of Cost    2\n",
              "General Health               1\n",
              "Mental Health                1\n",
              "Physical Health              1\n",
              "Difficulty Walking           2\n",
              "Sex                          1\n",
              "Age                          1\n",
              "Education                    1\n",
              "Income                       1\n",
              "dtype: int64"
            ]
          },
          "metadata": {},
          "execution_count": 6
        }
      ]
    },
    {
      "cell_type": "markdown",
      "source": [
        "شماره ردیف را حذف می‌کنیم.\n",
        "\n",
        "داده‌هایی که پوچ هستند را دراپ می‌کنیم.\n",
        "\n",
        "داده‌های ناشناس را به  دسته‌ی طبقه‌ی ۸ می‌دهیم زیرا این دسته از همه بیش‌تر است.\n",
        "\n",
        "\n",
        "\n"
      ],
      "metadata": {
        "id": "6qrQ-p7oDkS8"
      }
    },
    {
      "cell_type": "code",
      "source": [
        "ds.drop(\"Unnamed: 0\",axis=1,inplace=True)\n",
        "ds.dropna(inplace=True)\n",
        "ds.replace('Unknown', 'Cat8', inplace=True)"
      ],
      "metadata": {
        "id": "1HVoS4XjATzR",
        "execution": {
          "iopub.status.busy": "2022-07-01T23:37:36.948595Z",
          "iopub.execute_input": "2022-07-01T23:37:36.949012Z",
          "iopub.status.idle": "2022-07-01T23:37:37.013791Z",
          "shell.execute_reply.started": "2022-07-01T23:37:36.948979Z",
          "shell.execute_reply": "2022-07-01T23:37:37.012624Z"
        },
        "trusted": true
      },
      "execution_count": 7,
      "outputs": []
    },
    {
      "cell_type": "markdown",
      "source": [
        "حال مشاهده می‌کنیم که دیگر داده‌ی پوچی وجود ندارد."
      ],
      "metadata": {
        "id": "_AY1i6jaBB_8"
      }
    },
    {
      "cell_type": "code",
      "source": [
        "ds.isna().sum()\n"
      ],
      "metadata": {
        "id": "wyoSxdHKAz94",
        "outputId": "81e1a444-0f48-4943-ad26-ecfc195f7a43",
        "execution": {
          "iopub.status.busy": "2022-07-01T23:37:39.788863Z",
          "iopub.execute_input": "2022-07-01T23:37:39.789242Z",
          "iopub.status.idle": "2022-07-01T23:37:39.825723Z",
          "shell.execute_reply.started": "2022-07-01T23:37:39.789210Z",
          "shell.execute_reply": "2022-07-01T23:37:39.824909Z"
        },
        "trusted": true,
        "colab": {
          "base_uri": "https://localhost:8080/"
        }
      },
      "execution_count": 8,
      "outputs": [
        {
          "output_type": "execute_result",
          "data": {
            "text/plain": [
              "Diabetes_binary              0\n",
              "HighBP                       0\n",
              "High Cholesterol             0\n",
              "Cholesterol Check            0\n",
              "BMI                          0\n",
              "Smoker                       0\n",
              "Stroke                       0\n",
              "HeartDiseaseorAttack         0\n",
              "Physical Activity            0\n",
              "Fruits                       0\n",
              "Veggies                      0\n",
              "Heavy Alcohol Consumption    0\n",
              "Any Health Care              0\n",
              "No Doctor because of Cost    0\n",
              "General Health               0\n",
              "Mental Health                0\n",
              "Physical Health              0\n",
              "Difficulty Walking           0\n",
              "Sex                          0\n",
              "Age                          0\n",
              "Education                    0\n",
              "Income                       0\n",
              "dtype: int64"
            ]
          },
          "metadata": {},
          "execution_count": 8
        }
      ]
    },
    {
      "cell_type": "markdown",
      "source": [
        "در این قسمت برای عدم بروز مشکل در درخت فاصله‌ی کلمات را حذف می‌کنیم.\n",
        "\n",
        "\n"
      ],
      "metadata": {
        "id": "4UGbaPKXBkOR"
      }
    },
    {
      "cell_type": "code",
      "source": [
        "ds=ds.rename(columns={\"High Cholesterol\": \"HighCholesterol\", \"Cholesterol Check\": \"CholesterolCheck\",\n",
        " \"Physical Activity\": \"PhysicalActivity\", \"Heavy Alcohol Consumption\": \"HeavyAlcoholConsumption\",\n",
        "  \"Any Health Care\": \"AnyHealthCare\", \"No Doctor because of Cost\": \"NoDoctorBecauseOfCost\",\n",
        "  \"General Health\": \"GeneralHealth\",\"Mental Health\": \"MentalHealth\", \"Physical Health\": \"PhysicalHealth\",\n",
        "   \"Difficulty Walking\": \"DifficultyWalking\"})"
      ],
      "metadata": {
        "id": "kraOZAX0A2Iw",
        "execution": {
          "iopub.status.busy": "2022-07-01T23:37:42.531869Z",
          "iopub.execute_input": "2022-07-01T23:37:42.532252Z",
          "iopub.status.idle": "2022-07-01T23:37:42.545921Z",
          "shell.execute_reply.started": "2022-07-01T23:37:42.532221Z",
          "shell.execute_reply": "2022-07-01T23:37:42.544736Z"
        },
        "trusted": true
      },
      "execution_count": 9,
      "outputs": []
    },
    {
      "cell_type": "markdown",
      "source": [
        "همان‌طور که مشاهده می‌شود ستون‌های با فاصله دیگر وجود ندارند."
      ],
      "metadata": {
        "id": "2MC9zoKNEPQA"
      }
    },
    {
      "cell_type": "code",
      "source": [
        "ds.columns"
      ],
      "metadata": {
        "id": "UUG9e0nwDPPr",
        "outputId": "b00bbaad-7203-41cf-9b53-657239134ee8",
        "execution": {
          "iopub.status.busy": "2022-07-01T23:37:44.488189Z",
          "iopub.execute_input": "2022-07-01T23:37:44.488782Z",
          "iopub.status.idle": "2022-07-01T23:37:44.499414Z",
          "shell.execute_reply.started": "2022-07-01T23:37:44.488732Z",
          "shell.execute_reply": "2022-07-01T23:37:44.497680Z"
        },
        "trusted": true,
        "colab": {
          "base_uri": "https://localhost:8080/"
        }
      },
      "execution_count": 10,
      "outputs": [
        {
          "output_type": "execute_result",
          "data": {
            "text/plain": [
              "Index(['Diabetes_binary', 'HighBP', 'HighCholesterol', 'CholesterolCheck',\n",
              "       'BMI', 'Smoker', 'Stroke', 'HeartDiseaseorAttack', 'PhysicalActivity',\n",
              "       'Fruits', 'Veggies', 'HeavyAlcoholConsumption', 'AnyHealthCare',\n",
              "       'NoDoctorBecauseOfCost', 'GeneralHealth', 'MentalHealth',\n",
              "       'PhysicalHealth', 'DifficultyWalking', 'Sex', 'Age', 'Education',\n",
              "       'Income'],\n",
              "      dtype='object')"
            ]
          },
          "metadata": {},
          "execution_count": 10
        }
      ]
    },
    {
      "cell_type": "markdown",
      "source": [
        "با روش کمینه-بیشینه برخی ویژگی‌ها را نرمال‌سازی می‌کنیم."
      ],
      "metadata": {
        "id": "l_hwZ6vCKqQJ"
      }
    },
    {
      "cell_type": "code",
      "source": [
        "ds[\"Age\"] = (ds[\"Age\"]-ds[\"Age\"].min()) / (ds[\"Age\"].max()-ds[\"Age\"].min())\n",
        "ds[\"PhysicalHealth\"] = (ds[\"PhysicalHealth\"]-ds[\"PhysicalHealth\"].min()) / (ds[\"PhysicalHealth\"].max()-ds[\"PhysicalHealth\"].min())\n",
        "ds[\"BMI\"] = (ds[\"BMI\"]-ds[\"BMI\"].min()) / (ds[\"BMI\"].max()-ds[\"BMI\"].min())\n",
        "ds[\"MentalHealth\"] = (ds[\"MentalHealth\"]-ds[\"MentalHealth\"].min()) / (ds[\"MentalHealth\"].max()-ds[\"MentalHealth\"].min())\n",
        "ds"
      ],
      "metadata": {
        "id": "c5GhXQl1ELwt",
        "outputId": "050b5ae5-418a-40d9-fb05-66c00c400e17",
        "execution": {
          "iopub.status.busy": "2022-07-01T23:37:47.946726Z",
          "iopub.execute_input": "2022-07-01T23:37:47.947121Z",
          "iopub.status.idle": "2022-07-01T23:37:48.029290Z",
          "shell.execute_reply.started": "2022-07-01T23:37:47.947088Z",
          "shell.execute_reply": "2022-07-01T23:37:48.027974Z"
        },
        "trusted": true,
        "colab": {
          "base_uri": "https://localhost:8080/",
          "height": 488
        }
      },
      "execution_count": 11,
      "outputs": [
        {
          "output_type": "execute_result",
          "data": {
            "text/plain": [
              "       Diabetes_binary  HighBP  HighCholesterol  CholesterolCheck       BMI  \\\n",
              "0                  0.0     1.0              0.0               1.0  0.162791   \n",
              "1                  0.0     1.0              1.0               1.0  0.162791   \n",
              "2                  0.0     0.0              0.0               1.0  0.162791   \n",
              "3                  0.0     1.0              1.0               1.0  0.186047   \n",
              "4                  0.0     0.0              0.0               1.0  0.197674   \n",
              "...                ...     ...              ...               ...       ...   \n",
              "70687              1.0     0.0              1.0               1.0  0.290698   \n",
              "70688              1.0     0.0              1.0               1.0  0.197674   \n",
              "70689              1.0     1.0              1.0               1.0  0.151163   \n",
              "70690              1.0     1.0              1.0               1.0  0.069767   \n",
              "70691              1.0     1.0              1.0               1.0  0.151163   \n",
              "\n",
              "       Smoker  Stroke  HeartDiseaseorAttack  PhysicalActivity  Fruits  ...  \\\n",
              "0         0.0     0.0                   0.0               1.0     0.0  ...   \n",
              "1         1.0     1.0                   0.0               0.0     1.0  ...   \n",
              "2         0.0     0.0                   0.0               1.0     1.0  ...   \n",
              "3         1.0     0.0                   0.0               1.0     1.0  ...   \n",
              "4         1.0     0.0                   0.0               1.0     1.0  ...   \n",
              "...       ...     ...                   ...               ...     ...  ...   \n",
              "70687     0.0     0.0                   0.0               0.0     0.0  ...   \n",
              "70688     1.0     0.0                   1.0               0.0     1.0  ...   \n",
              "70689     0.0     0.0                   1.0               0.0     1.0  ...   \n",
              "70690     0.0     0.0                   0.0               0.0     0.0  ...   \n",
              "70691     0.0     0.0                   1.0               1.0     1.0  ...   \n",
              "\n",
              "       AnyHealthCare  NoDoctorBecauseOfCost  GeneralHealth  MentalHealth  \\\n",
              "0                1.0                    0.0         Medium      0.166667   \n",
              "1                1.0                    0.0         Medium      0.000000   \n",
              "2                1.0                    0.0           High      0.000000   \n",
              "3                1.0                    0.0         Medium      0.000000   \n",
              "4                1.0                    0.0           Good      0.000000   \n",
              "...              ...                    ...            ...           ...   \n",
              "70687            1.0                    0.0            Low      0.000000   \n",
              "70688            1.0                    0.0           Good      0.000000   \n",
              "70689            1.0                    0.0       Very Low      0.500000   \n",
              "70690            1.0                    0.0            Low      0.000000   \n",
              "70691            1.0                    0.0           Good      0.000000   \n",
              "\n",
              "      PhysicalHealth  DifficultyWalking     Sex       Age Education  Income  \n",
              "0           1.000000                0.0    male  0.250000      Cat6    Cat8  \n",
              "1           0.000000                0.0    male  0.916667      Cat6    Cat8  \n",
              "2           0.333333                0.0    male  1.000000      Cat6    Cat8  \n",
              "3           0.100000                0.0    male  0.833333      Cat6    Cat8  \n",
              "4           0.000000                0.0  female  0.583333      Cat5    Cat8  \n",
              "...              ...                ...     ...       ...       ...     ...  \n",
              "70687       0.000000                0.0  female  0.416667      Cat4    Cat1  \n",
              "70688       0.000000                1.0    male  0.750000      Cat3    Cat6  \n",
              "70689       0.000000                1.0  female  1.000000      Cat6    Cat4  \n",
              "70690       0.000000                1.0  female  0.833333      Cat2    Cat4  \n",
              "70691       0.000000                0.0  female  0.666667      Cat6    Cat2  \n",
              "\n",
              "[70686 rows x 22 columns]"
            ],
            "text/html": [
              "\n",
              "  <div id=\"df-0fa02870-5d4d-4b51-991b-2bbb2a9b09d5\">\n",
              "    <div class=\"colab-df-container\">\n",
              "      <div>\n",
              "<style scoped>\n",
              "    .dataframe tbody tr th:only-of-type {\n",
              "        vertical-align: middle;\n",
              "    }\n",
              "\n",
              "    .dataframe tbody tr th {\n",
              "        vertical-align: top;\n",
              "    }\n",
              "\n",
              "    .dataframe thead th {\n",
              "        text-align: right;\n",
              "    }\n",
              "</style>\n",
              "<table border=\"1\" class=\"dataframe\">\n",
              "  <thead>\n",
              "    <tr style=\"text-align: right;\">\n",
              "      <th></th>\n",
              "      <th>Diabetes_binary</th>\n",
              "      <th>HighBP</th>\n",
              "      <th>HighCholesterol</th>\n",
              "      <th>CholesterolCheck</th>\n",
              "      <th>BMI</th>\n",
              "      <th>Smoker</th>\n",
              "      <th>Stroke</th>\n",
              "      <th>HeartDiseaseorAttack</th>\n",
              "      <th>PhysicalActivity</th>\n",
              "      <th>Fruits</th>\n",
              "      <th>...</th>\n",
              "      <th>AnyHealthCare</th>\n",
              "      <th>NoDoctorBecauseOfCost</th>\n",
              "      <th>GeneralHealth</th>\n",
              "      <th>MentalHealth</th>\n",
              "      <th>PhysicalHealth</th>\n",
              "      <th>DifficultyWalking</th>\n",
              "      <th>Sex</th>\n",
              "      <th>Age</th>\n",
              "      <th>Education</th>\n",
              "      <th>Income</th>\n",
              "    </tr>\n",
              "  </thead>\n",
              "  <tbody>\n",
              "    <tr>\n",
              "      <th>0</th>\n",
              "      <td>0.0</td>\n",
              "      <td>1.0</td>\n",
              "      <td>0.0</td>\n",
              "      <td>1.0</td>\n",
              "      <td>0.162791</td>\n",
              "      <td>0.0</td>\n",
              "      <td>0.0</td>\n",
              "      <td>0.0</td>\n",
              "      <td>1.0</td>\n",
              "      <td>0.0</td>\n",
              "      <td>...</td>\n",
              "      <td>1.0</td>\n",
              "      <td>0.0</td>\n",
              "      <td>Medium</td>\n",
              "      <td>0.166667</td>\n",
              "      <td>1.000000</td>\n",
              "      <td>0.0</td>\n",
              "      <td>male</td>\n",
              "      <td>0.250000</td>\n",
              "      <td>Cat6</td>\n",
              "      <td>Cat8</td>\n",
              "    </tr>\n",
              "    <tr>\n",
              "      <th>1</th>\n",
              "      <td>0.0</td>\n",
              "      <td>1.0</td>\n",
              "      <td>1.0</td>\n",
              "      <td>1.0</td>\n",
              "      <td>0.162791</td>\n",
              "      <td>1.0</td>\n",
              "      <td>1.0</td>\n",
              "      <td>0.0</td>\n",
              "      <td>0.0</td>\n",
              "      <td>1.0</td>\n",
              "      <td>...</td>\n",
              "      <td>1.0</td>\n",
              "      <td>0.0</td>\n",
              "      <td>Medium</td>\n",
              "      <td>0.000000</td>\n",
              "      <td>0.000000</td>\n",
              "      <td>0.0</td>\n",
              "      <td>male</td>\n",
              "      <td>0.916667</td>\n",
              "      <td>Cat6</td>\n",
              "      <td>Cat8</td>\n",
              "    </tr>\n",
              "    <tr>\n",
              "      <th>2</th>\n",
              "      <td>0.0</td>\n",
              "      <td>0.0</td>\n",
              "      <td>0.0</td>\n",
              "      <td>1.0</td>\n",
              "      <td>0.162791</td>\n",
              "      <td>0.0</td>\n",
              "      <td>0.0</td>\n",
              "      <td>0.0</td>\n",
              "      <td>1.0</td>\n",
              "      <td>1.0</td>\n",
              "      <td>...</td>\n",
              "      <td>1.0</td>\n",
              "      <td>0.0</td>\n",
              "      <td>High</td>\n",
              "      <td>0.000000</td>\n",
              "      <td>0.333333</td>\n",
              "      <td>0.0</td>\n",
              "      <td>male</td>\n",
              "      <td>1.000000</td>\n",
              "      <td>Cat6</td>\n",
              "      <td>Cat8</td>\n",
              "    </tr>\n",
              "    <tr>\n",
              "      <th>3</th>\n",
              "      <td>0.0</td>\n",
              "      <td>1.0</td>\n",
              "      <td>1.0</td>\n",
              "      <td>1.0</td>\n",
              "      <td>0.186047</td>\n",
              "      <td>1.0</td>\n",
              "      <td>0.0</td>\n",
              "      <td>0.0</td>\n",
              "      <td>1.0</td>\n",
              "      <td>1.0</td>\n",
              "      <td>...</td>\n",
              "      <td>1.0</td>\n",
              "      <td>0.0</td>\n",
              "      <td>Medium</td>\n",
              "      <td>0.000000</td>\n",
              "      <td>0.100000</td>\n",
              "      <td>0.0</td>\n",
              "      <td>male</td>\n",
              "      <td>0.833333</td>\n",
              "      <td>Cat6</td>\n",
              "      <td>Cat8</td>\n",
              "    </tr>\n",
              "    <tr>\n",
              "      <th>4</th>\n",
              "      <td>0.0</td>\n",
              "      <td>0.0</td>\n",
              "      <td>0.0</td>\n",
              "      <td>1.0</td>\n",
              "      <td>0.197674</td>\n",
              "      <td>1.0</td>\n",
              "      <td>0.0</td>\n",
              "      <td>0.0</td>\n",
              "      <td>1.0</td>\n",
              "      <td>1.0</td>\n",
              "      <td>...</td>\n",
              "      <td>1.0</td>\n",
              "      <td>0.0</td>\n",
              "      <td>Good</td>\n",
              "      <td>0.000000</td>\n",
              "      <td>0.000000</td>\n",
              "      <td>0.0</td>\n",
              "      <td>female</td>\n",
              "      <td>0.583333</td>\n",
              "      <td>Cat5</td>\n",
              "      <td>Cat8</td>\n",
              "    </tr>\n",
              "    <tr>\n",
              "      <th>...</th>\n",
              "      <td>...</td>\n",
              "      <td>...</td>\n",
              "      <td>...</td>\n",
              "      <td>...</td>\n",
              "      <td>...</td>\n",
              "      <td>...</td>\n",
              "      <td>...</td>\n",
              "      <td>...</td>\n",
              "      <td>...</td>\n",
              "      <td>...</td>\n",
              "      <td>...</td>\n",
              "      <td>...</td>\n",
              "      <td>...</td>\n",
              "      <td>...</td>\n",
              "      <td>...</td>\n",
              "      <td>...</td>\n",
              "      <td>...</td>\n",
              "      <td>...</td>\n",
              "      <td>...</td>\n",
              "      <td>...</td>\n",
              "      <td>...</td>\n",
              "    </tr>\n",
              "    <tr>\n",
              "      <th>70687</th>\n",
              "      <td>1.0</td>\n",
              "      <td>0.0</td>\n",
              "      <td>1.0</td>\n",
              "      <td>1.0</td>\n",
              "      <td>0.290698</td>\n",
              "      <td>0.0</td>\n",
              "      <td>0.0</td>\n",
              "      <td>0.0</td>\n",
              "      <td>0.0</td>\n",
              "      <td>0.0</td>\n",
              "      <td>...</td>\n",
              "      <td>1.0</td>\n",
              "      <td>0.0</td>\n",
              "      <td>Low</td>\n",
              "      <td>0.000000</td>\n",
              "      <td>0.000000</td>\n",
              "      <td>0.0</td>\n",
              "      <td>female</td>\n",
              "      <td>0.416667</td>\n",
              "      <td>Cat4</td>\n",
              "      <td>Cat1</td>\n",
              "    </tr>\n",
              "    <tr>\n",
              "      <th>70688</th>\n",
              "      <td>1.0</td>\n",
              "      <td>0.0</td>\n",
              "      <td>1.0</td>\n",
              "      <td>1.0</td>\n",
              "      <td>0.197674</td>\n",
              "      <td>1.0</td>\n",
              "      <td>0.0</td>\n",
              "      <td>1.0</td>\n",
              "      <td>0.0</td>\n",
              "      <td>1.0</td>\n",
              "      <td>...</td>\n",
              "      <td>1.0</td>\n",
              "      <td>0.0</td>\n",
              "      <td>Good</td>\n",
              "      <td>0.000000</td>\n",
              "      <td>0.000000</td>\n",
              "      <td>1.0</td>\n",
              "      <td>male</td>\n",
              "      <td>0.750000</td>\n",
              "      <td>Cat3</td>\n",
              "      <td>Cat6</td>\n",
              "    </tr>\n",
              "    <tr>\n",
              "      <th>70689</th>\n",
              "      <td>1.0</td>\n",
              "      <td>1.0</td>\n",
              "      <td>1.0</td>\n",
              "      <td>1.0</td>\n",
              "      <td>0.151163</td>\n",
              "      <td>0.0</td>\n",
              "      <td>0.0</td>\n",
              "      <td>1.0</td>\n",
              "      <td>0.0</td>\n",
              "      <td>1.0</td>\n",
              "      <td>...</td>\n",
              "      <td>1.0</td>\n",
              "      <td>0.0</td>\n",
              "      <td>Very Low</td>\n",
              "      <td>0.500000</td>\n",
              "      <td>0.000000</td>\n",
              "      <td>1.0</td>\n",
              "      <td>female</td>\n",
              "      <td>1.000000</td>\n",
              "      <td>Cat6</td>\n",
              "      <td>Cat4</td>\n",
              "    </tr>\n",
              "    <tr>\n",
              "      <th>70690</th>\n",
              "      <td>1.0</td>\n",
              "      <td>1.0</td>\n",
              "      <td>1.0</td>\n",
              "      <td>1.0</td>\n",
              "      <td>0.069767</td>\n",
              "      <td>0.0</td>\n",
              "      <td>0.0</td>\n",
              "      <td>0.0</td>\n",
              "      <td>0.0</td>\n",
              "      <td>0.0</td>\n",
              "      <td>...</td>\n",
              "      <td>1.0</td>\n",
              "      <td>0.0</td>\n",
              "      <td>Low</td>\n",
              "      <td>0.000000</td>\n",
              "      <td>0.000000</td>\n",
              "      <td>1.0</td>\n",
              "      <td>female</td>\n",
              "      <td>0.833333</td>\n",
              "      <td>Cat2</td>\n",
              "      <td>Cat4</td>\n",
              "    </tr>\n",
              "    <tr>\n",
              "      <th>70691</th>\n",
              "      <td>1.0</td>\n",
              "      <td>1.0</td>\n",
              "      <td>1.0</td>\n",
              "      <td>1.0</td>\n",
              "      <td>0.151163</td>\n",
              "      <td>0.0</td>\n",
              "      <td>0.0</td>\n",
              "      <td>1.0</td>\n",
              "      <td>1.0</td>\n",
              "      <td>1.0</td>\n",
              "      <td>...</td>\n",
              "      <td>1.0</td>\n",
              "      <td>0.0</td>\n",
              "      <td>Good</td>\n",
              "      <td>0.000000</td>\n",
              "      <td>0.000000</td>\n",
              "      <td>0.0</td>\n",
              "      <td>female</td>\n",
              "      <td>0.666667</td>\n",
              "      <td>Cat6</td>\n",
              "      <td>Cat2</td>\n",
              "    </tr>\n",
              "  </tbody>\n",
              "</table>\n",
              "<p>70686 rows × 22 columns</p>\n",
              "</div>\n",
              "      <button class=\"colab-df-convert\" onclick=\"convertToInteractive('df-0fa02870-5d4d-4b51-991b-2bbb2a9b09d5')\"\n",
              "              title=\"Convert this dataframe to an interactive table.\"\n",
              "              style=\"display:none;\">\n",
              "        \n",
              "  <svg xmlns=\"http://www.w3.org/2000/svg\" height=\"24px\"viewBox=\"0 0 24 24\"\n",
              "       width=\"24px\">\n",
              "    <path d=\"M0 0h24v24H0V0z\" fill=\"none\"/>\n",
              "    <path d=\"M18.56 5.44l.94 2.06.94-2.06 2.06-.94-2.06-.94-.94-2.06-.94 2.06-2.06.94zm-11 1L8.5 8.5l.94-2.06 2.06-.94-2.06-.94L8.5 2.5l-.94 2.06-2.06.94zm10 10l.94 2.06.94-2.06 2.06-.94-2.06-.94-.94-2.06-.94 2.06-2.06.94z\"/><path d=\"M17.41 7.96l-1.37-1.37c-.4-.4-.92-.59-1.43-.59-.52 0-1.04.2-1.43.59L10.3 9.45l-7.72 7.72c-.78.78-.78 2.05 0 2.83L4 21.41c.39.39.9.59 1.41.59.51 0 1.02-.2 1.41-.59l7.78-7.78 2.81-2.81c.8-.78.8-2.07 0-2.86zM5.41 20L4 18.59l7.72-7.72 1.47 1.35L5.41 20z\"/>\n",
              "  </svg>\n",
              "      </button>\n",
              "      \n",
              "  <style>\n",
              "    .colab-df-container {\n",
              "      display:flex;\n",
              "      flex-wrap:wrap;\n",
              "      gap: 12px;\n",
              "    }\n",
              "\n",
              "    .colab-df-convert {\n",
              "      background-color: #E8F0FE;\n",
              "      border: none;\n",
              "      border-radius: 50%;\n",
              "      cursor: pointer;\n",
              "      display: none;\n",
              "      fill: #1967D2;\n",
              "      height: 32px;\n",
              "      padding: 0 0 0 0;\n",
              "      width: 32px;\n",
              "    }\n",
              "\n",
              "    .colab-df-convert:hover {\n",
              "      background-color: #E2EBFA;\n",
              "      box-shadow: 0px 1px 2px rgba(60, 64, 67, 0.3), 0px 1px 3px 1px rgba(60, 64, 67, 0.15);\n",
              "      fill: #174EA6;\n",
              "    }\n",
              "\n",
              "    [theme=dark] .colab-df-convert {\n",
              "      background-color: #3B4455;\n",
              "      fill: #D2E3FC;\n",
              "    }\n",
              "\n",
              "    [theme=dark] .colab-df-convert:hover {\n",
              "      background-color: #434B5C;\n",
              "      box-shadow: 0px 1px 3px 1px rgba(0, 0, 0, 0.15);\n",
              "      filter: drop-shadow(0px 1px 2px rgba(0, 0, 0, 0.3));\n",
              "      fill: #FFFFFF;\n",
              "    }\n",
              "  </style>\n",
              "\n",
              "      <script>\n",
              "        const buttonEl =\n",
              "          document.querySelector('#df-0fa02870-5d4d-4b51-991b-2bbb2a9b09d5 button.colab-df-convert');\n",
              "        buttonEl.style.display =\n",
              "          google.colab.kernel.accessAllowed ? 'block' : 'none';\n",
              "\n",
              "        async function convertToInteractive(key) {\n",
              "          const element = document.querySelector('#df-0fa02870-5d4d-4b51-991b-2bbb2a9b09d5');\n",
              "          const dataTable =\n",
              "            await google.colab.kernel.invokeFunction('convertToInteractive',\n",
              "                                                     [key], {});\n",
              "          if (!dataTable) return;\n",
              "\n",
              "          const docLinkHtml = 'Like what you see? Visit the ' +\n",
              "            '<a target=\"_blank\" href=https://colab.research.google.com/notebooks/data_table.ipynb>data table notebook</a>'\n",
              "            + ' to learn more about interactive tables.';\n",
              "          element.innerHTML = '';\n",
              "          dataTable['output_type'] = 'display_data';\n",
              "          await google.colab.output.renderOutput(dataTable, element);\n",
              "          const docLink = document.createElement('div');\n",
              "          docLink.innerHTML = docLinkHtml;\n",
              "          element.appendChild(docLink);\n",
              "        }\n",
              "      </script>\n",
              "    </div>\n",
              "  </div>\n",
              "  "
            ]
          },
          "metadata": {},
          "execution_count": 11
        }
      ]
    },
    {
      "cell_type": "markdown",
      "source": [
        "با دامی‌‌ها ویژگی‌های دسته‌بندی شده را به ویژگی عددی تبدیل می‌کنیم."
      ],
      "metadata": {
        "id": "4ywKPtC0OGG-"
      }
    },
    {
      "cell_type": "code",
      "source": [
        "ds = pd.get_dummies(ds, columns=['GeneralHealth', 'Sex', 'Education', 'Income'])\n",
        "ds"
      ],
      "metadata": {
        "id": "J22FzHKsMpja",
        "outputId": "8e232593-a339-4359-8ca7-3529a6285914",
        "execution": {
          "iopub.status.busy": "2022-07-01T23:37:51.978917Z",
          "iopub.execute_input": "2022-07-01T23:37:51.979303Z",
          "iopub.status.idle": "2022-07-01T23:37:52.064024Z",
          "shell.execute_reply.started": "2022-07-01T23:37:51.979271Z",
          "shell.execute_reply": "2022-07-01T23:37:52.062830Z"
        },
        "trusted": true,
        "colab": {
          "base_uri": "https://localhost:8080/",
          "height": 488
        }
      },
      "execution_count": 12,
      "outputs": [
        {
          "output_type": "execute_result",
          "data": {
            "text/plain": [
              "       Diabetes_binary  HighBP  HighCholesterol  CholesterolCheck       BMI  \\\n",
              "0                  0.0     1.0              0.0               1.0  0.162791   \n",
              "1                  0.0     1.0              1.0               1.0  0.162791   \n",
              "2                  0.0     0.0              0.0               1.0  0.162791   \n",
              "3                  0.0     1.0              1.0               1.0  0.186047   \n",
              "4                  0.0     0.0              0.0               1.0  0.197674   \n",
              "...                ...     ...              ...               ...       ...   \n",
              "70687              1.0     0.0              1.0               1.0  0.290698   \n",
              "70688              1.0     0.0              1.0               1.0  0.197674   \n",
              "70689              1.0     1.0              1.0               1.0  0.151163   \n",
              "70690              1.0     1.0              1.0               1.0  0.069767   \n",
              "70691              1.0     1.0              1.0               1.0  0.151163   \n",
              "\n",
              "       Smoker  Stroke  HeartDiseaseorAttack  PhysicalActivity  Fruits  ...  \\\n",
              "0         0.0     0.0                   0.0               1.0     0.0  ...   \n",
              "1         1.0     1.0                   0.0               0.0     1.0  ...   \n",
              "2         0.0     0.0                   0.0               1.0     1.0  ...   \n",
              "3         1.0     0.0                   0.0               1.0     1.0  ...   \n",
              "4         1.0     0.0                   0.0               1.0     1.0  ...   \n",
              "...       ...     ...                   ...               ...     ...  ...   \n",
              "70687     0.0     0.0                   0.0               0.0     0.0  ...   \n",
              "70688     1.0     0.0                   1.0               0.0     1.0  ...   \n",
              "70689     0.0     0.0                   1.0               0.0     1.0  ...   \n",
              "70690     0.0     0.0                   0.0               0.0     0.0  ...   \n",
              "70691     0.0     0.0                   1.0               1.0     1.0  ...   \n",
              "\n",
              "       Education_Cat5  Education_Cat6  Income_Cat1  Income_Cat2  Income_Cat3  \\\n",
              "0                   0               1            0            0            0   \n",
              "1                   0               1            0            0            0   \n",
              "2                   0               1            0            0            0   \n",
              "3                   0               1            0            0            0   \n",
              "4                   1               0            0            0            0   \n",
              "...               ...             ...          ...          ...          ...   \n",
              "70687               0               0            1            0            0   \n",
              "70688               0               0            0            0            0   \n",
              "70689               0               1            0            0            0   \n",
              "70690               0               0            0            0            0   \n",
              "70691               0               1            0            1            0   \n",
              "\n",
              "       Income_Cat4  Income_Cat5  Income_Cat6  Income_Cat7  Income_Cat8  \n",
              "0                0            0            0            0            1  \n",
              "1                0            0            0            0            1  \n",
              "2                0            0            0            0            1  \n",
              "3                0            0            0            0            1  \n",
              "4                0            0            0            0            1  \n",
              "...            ...          ...          ...          ...          ...  \n",
              "70687            0            0            0            0            0  \n",
              "70688            0            0            1            0            0  \n",
              "70689            1            0            0            0            0  \n",
              "70690            1            0            0            0            0  \n",
              "70691            0            0            0            0            0  \n",
              "\n",
              "[70686 rows x 39 columns]"
            ],
            "text/html": [
              "\n",
              "  <div id=\"df-208074de-20db-4b60-9bb2-513f5bcd3c8e\">\n",
              "    <div class=\"colab-df-container\">\n",
              "      <div>\n",
              "<style scoped>\n",
              "    .dataframe tbody tr th:only-of-type {\n",
              "        vertical-align: middle;\n",
              "    }\n",
              "\n",
              "    .dataframe tbody tr th {\n",
              "        vertical-align: top;\n",
              "    }\n",
              "\n",
              "    .dataframe thead th {\n",
              "        text-align: right;\n",
              "    }\n",
              "</style>\n",
              "<table border=\"1\" class=\"dataframe\">\n",
              "  <thead>\n",
              "    <tr style=\"text-align: right;\">\n",
              "      <th></th>\n",
              "      <th>Diabetes_binary</th>\n",
              "      <th>HighBP</th>\n",
              "      <th>HighCholesterol</th>\n",
              "      <th>CholesterolCheck</th>\n",
              "      <th>BMI</th>\n",
              "      <th>Smoker</th>\n",
              "      <th>Stroke</th>\n",
              "      <th>HeartDiseaseorAttack</th>\n",
              "      <th>PhysicalActivity</th>\n",
              "      <th>Fruits</th>\n",
              "      <th>...</th>\n",
              "      <th>Education_Cat5</th>\n",
              "      <th>Education_Cat6</th>\n",
              "      <th>Income_Cat1</th>\n",
              "      <th>Income_Cat2</th>\n",
              "      <th>Income_Cat3</th>\n",
              "      <th>Income_Cat4</th>\n",
              "      <th>Income_Cat5</th>\n",
              "      <th>Income_Cat6</th>\n",
              "      <th>Income_Cat7</th>\n",
              "      <th>Income_Cat8</th>\n",
              "    </tr>\n",
              "  </thead>\n",
              "  <tbody>\n",
              "    <tr>\n",
              "      <th>0</th>\n",
              "      <td>0.0</td>\n",
              "      <td>1.0</td>\n",
              "      <td>0.0</td>\n",
              "      <td>1.0</td>\n",
              "      <td>0.162791</td>\n",
              "      <td>0.0</td>\n",
              "      <td>0.0</td>\n",
              "      <td>0.0</td>\n",
              "      <td>1.0</td>\n",
              "      <td>0.0</td>\n",
              "      <td>...</td>\n",
              "      <td>0</td>\n",
              "      <td>1</td>\n",
              "      <td>0</td>\n",
              "      <td>0</td>\n",
              "      <td>0</td>\n",
              "      <td>0</td>\n",
              "      <td>0</td>\n",
              "      <td>0</td>\n",
              "      <td>0</td>\n",
              "      <td>1</td>\n",
              "    </tr>\n",
              "    <tr>\n",
              "      <th>1</th>\n",
              "      <td>0.0</td>\n",
              "      <td>1.0</td>\n",
              "      <td>1.0</td>\n",
              "      <td>1.0</td>\n",
              "      <td>0.162791</td>\n",
              "      <td>1.0</td>\n",
              "      <td>1.0</td>\n",
              "      <td>0.0</td>\n",
              "      <td>0.0</td>\n",
              "      <td>1.0</td>\n",
              "      <td>...</td>\n",
              "      <td>0</td>\n",
              "      <td>1</td>\n",
              "      <td>0</td>\n",
              "      <td>0</td>\n",
              "      <td>0</td>\n",
              "      <td>0</td>\n",
              "      <td>0</td>\n",
              "      <td>0</td>\n",
              "      <td>0</td>\n",
              "      <td>1</td>\n",
              "    </tr>\n",
              "    <tr>\n",
              "      <th>2</th>\n",
              "      <td>0.0</td>\n",
              "      <td>0.0</td>\n",
              "      <td>0.0</td>\n",
              "      <td>1.0</td>\n",
              "      <td>0.162791</td>\n",
              "      <td>0.0</td>\n",
              "      <td>0.0</td>\n",
              "      <td>0.0</td>\n",
              "      <td>1.0</td>\n",
              "      <td>1.0</td>\n",
              "      <td>...</td>\n",
              "      <td>0</td>\n",
              "      <td>1</td>\n",
              "      <td>0</td>\n",
              "      <td>0</td>\n",
              "      <td>0</td>\n",
              "      <td>0</td>\n",
              "      <td>0</td>\n",
              "      <td>0</td>\n",
              "      <td>0</td>\n",
              "      <td>1</td>\n",
              "    </tr>\n",
              "    <tr>\n",
              "      <th>3</th>\n",
              "      <td>0.0</td>\n",
              "      <td>1.0</td>\n",
              "      <td>1.0</td>\n",
              "      <td>1.0</td>\n",
              "      <td>0.186047</td>\n",
              "      <td>1.0</td>\n",
              "      <td>0.0</td>\n",
              "      <td>0.0</td>\n",
              "      <td>1.0</td>\n",
              "      <td>1.0</td>\n",
              "      <td>...</td>\n",
              "      <td>0</td>\n",
              "      <td>1</td>\n",
              "      <td>0</td>\n",
              "      <td>0</td>\n",
              "      <td>0</td>\n",
              "      <td>0</td>\n",
              "      <td>0</td>\n",
              "      <td>0</td>\n",
              "      <td>0</td>\n",
              "      <td>1</td>\n",
              "    </tr>\n",
              "    <tr>\n",
              "      <th>4</th>\n",
              "      <td>0.0</td>\n",
              "      <td>0.0</td>\n",
              "      <td>0.0</td>\n",
              "      <td>1.0</td>\n",
              "      <td>0.197674</td>\n",
              "      <td>1.0</td>\n",
              "      <td>0.0</td>\n",
              "      <td>0.0</td>\n",
              "      <td>1.0</td>\n",
              "      <td>1.0</td>\n",
              "      <td>...</td>\n",
              "      <td>1</td>\n",
              "      <td>0</td>\n",
              "      <td>0</td>\n",
              "      <td>0</td>\n",
              "      <td>0</td>\n",
              "      <td>0</td>\n",
              "      <td>0</td>\n",
              "      <td>0</td>\n",
              "      <td>0</td>\n",
              "      <td>1</td>\n",
              "    </tr>\n",
              "    <tr>\n",
              "      <th>...</th>\n",
              "      <td>...</td>\n",
              "      <td>...</td>\n",
              "      <td>...</td>\n",
              "      <td>...</td>\n",
              "      <td>...</td>\n",
              "      <td>...</td>\n",
              "      <td>...</td>\n",
              "      <td>...</td>\n",
              "      <td>...</td>\n",
              "      <td>...</td>\n",
              "      <td>...</td>\n",
              "      <td>...</td>\n",
              "      <td>...</td>\n",
              "      <td>...</td>\n",
              "      <td>...</td>\n",
              "      <td>...</td>\n",
              "      <td>...</td>\n",
              "      <td>...</td>\n",
              "      <td>...</td>\n",
              "      <td>...</td>\n",
              "      <td>...</td>\n",
              "    </tr>\n",
              "    <tr>\n",
              "      <th>70687</th>\n",
              "      <td>1.0</td>\n",
              "      <td>0.0</td>\n",
              "      <td>1.0</td>\n",
              "      <td>1.0</td>\n",
              "      <td>0.290698</td>\n",
              "      <td>0.0</td>\n",
              "      <td>0.0</td>\n",
              "      <td>0.0</td>\n",
              "      <td>0.0</td>\n",
              "      <td>0.0</td>\n",
              "      <td>...</td>\n",
              "      <td>0</td>\n",
              "      <td>0</td>\n",
              "      <td>1</td>\n",
              "      <td>0</td>\n",
              "      <td>0</td>\n",
              "      <td>0</td>\n",
              "      <td>0</td>\n",
              "      <td>0</td>\n",
              "      <td>0</td>\n",
              "      <td>0</td>\n",
              "    </tr>\n",
              "    <tr>\n",
              "      <th>70688</th>\n",
              "      <td>1.0</td>\n",
              "      <td>0.0</td>\n",
              "      <td>1.0</td>\n",
              "      <td>1.0</td>\n",
              "      <td>0.197674</td>\n",
              "      <td>1.0</td>\n",
              "      <td>0.0</td>\n",
              "      <td>1.0</td>\n",
              "      <td>0.0</td>\n",
              "      <td>1.0</td>\n",
              "      <td>...</td>\n",
              "      <td>0</td>\n",
              "      <td>0</td>\n",
              "      <td>0</td>\n",
              "      <td>0</td>\n",
              "      <td>0</td>\n",
              "      <td>0</td>\n",
              "      <td>0</td>\n",
              "      <td>1</td>\n",
              "      <td>0</td>\n",
              "      <td>0</td>\n",
              "    </tr>\n",
              "    <tr>\n",
              "      <th>70689</th>\n",
              "      <td>1.0</td>\n",
              "      <td>1.0</td>\n",
              "      <td>1.0</td>\n",
              "      <td>1.0</td>\n",
              "      <td>0.151163</td>\n",
              "      <td>0.0</td>\n",
              "      <td>0.0</td>\n",
              "      <td>1.0</td>\n",
              "      <td>0.0</td>\n",
              "      <td>1.0</td>\n",
              "      <td>...</td>\n",
              "      <td>0</td>\n",
              "      <td>1</td>\n",
              "      <td>0</td>\n",
              "      <td>0</td>\n",
              "      <td>0</td>\n",
              "      <td>1</td>\n",
              "      <td>0</td>\n",
              "      <td>0</td>\n",
              "      <td>0</td>\n",
              "      <td>0</td>\n",
              "    </tr>\n",
              "    <tr>\n",
              "      <th>70690</th>\n",
              "      <td>1.0</td>\n",
              "      <td>1.0</td>\n",
              "      <td>1.0</td>\n",
              "      <td>1.0</td>\n",
              "      <td>0.069767</td>\n",
              "      <td>0.0</td>\n",
              "      <td>0.0</td>\n",
              "      <td>0.0</td>\n",
              "      <td>0.0</td>\n",
              "      <td>0.0</td>\n",
              "      <td>...</td>\n",
              "      <td>0</td>\n",
              "      <td>0</td>\n",
              "      <td>0</td>\n",
              "      <td>0</td>\n",
              "      <td>0</td>\n",
              "      <td>1</td>\n",
              "      <td>0</td>\n",
              "      <td>0</td>\n",
              "      <td>0</td>\n",
              "      <td>0</td>\n",
              "    </tr>\n",
              "    <tr>\n",
              "      <th>70691</th>\n",
              "      <td>1.0</td>\n",
              "      <td>1.0</td>\n",
              "      <td>1.0</td>\n",
              "      <td>1.0</td>\n",
              "      <td>0.151163</td>\n",
              "      <td>0.0</td>\n",
              "      <td>0.0</td>\n",
              "      <td>1.0</td>\n",
              "      <td>1.0</td>\n",
              "      <td>1.0</td>\n",
              "      <td>...</td>\n",
              "      <td>0</td>\n",
              "      <td>1</td>\n",
              "      <td>0</td>\n",
              "      <td>1</td>\n",
              "      <td>0</td>\n",
              "      <td>0</td>\n",
              "      <td>0</td>\n",
              "      <td>0</td>\n",
              "      <td>0</td>\n",
              "      <td>0</td>\n",
              "    </tr>\n",
              "  </tbody>\n",
              "</table>\n",
              "<p>70686 rows × 39 columns</p>\n",
              "</div>\n",
              "      <button class=\"colab-df-convert\" onclick=\"convertToInteractive('df-208074de-20db-4b60-9bb2-513f5bcd3c8e')\"\n",
              "              title=\"Convert this dataframe to an interactive table.\"\n",
              "              style=\"display:none;\">\n",
              "        \n",
              "  <svg xmlns=\"http://www.w3.org/2000/svg\" height=\"24px\"viewBox=\"0 0 24 24\"\n",
              "       width=\"24px\">\n",
              "    <path d=\"M0 0h24v24H0V0z\" fill=\"none\"/>\n",
              "    <path d=\"M18.56 5.44l.94 2.06.94-2.06 2.06-.94-2.06-.94-.94-2.06-.94 2.06-2.06.94zm-11 1L8.5 8.5l.94-2.06 2.06-.94-2.06-.94L8.5 2.5l-.94 2.06-2.06.94zm10 10l.94 2.06.94-2.06 2.06-.94-2.06-.94-.94-2.06-.94 2.06-2.06.94z\"/><path d=\"M17.41 7.96l-1.37-1.37c-.4-.4-.92-.59-1.43-.59-.52 0-1.04.2-1.43.59L10.3 9.45l-7.72 7.72c-.78.78-.78 2.05 0 2.83L4 21.41c.39.39.9.59 1.41.59.51 0 1.02-.2 1.41-.59l7.78-7.78 2.81-2.81c.8-.78.8-2.07 0-2.86zM5.41 20L4 18.59l7.72-7.72 1.47 1.35L5.41 20z\"/>\n",
              "  </svg>\n",
              "      </button>\n",
              "      \n",
              "  <style>\n",
              "    .colab-df-container {\n",
              "      display:flex;\n",
              "      flex-wrap:wrap;\n",
              "      gap: 12px;\n",
              "    }\n",
              "\n",
              "    .colab-df-convert {\n",
              "      background-color: #E8F0FE;\n",
              "      border: none;\n",
              "      border-radius: 50%;\n",
              "      cursor: pointer;\n",
              "      display: none;\n",
              "      fill: #1967D2;\n",
              "      height: 32px;\n",
              "      padding: 0 0 0 0;\n",
              "      width: 32px;\n",
              "    }\n",
              "\n",
              "    .colab-df-convert:hover {\n",
              "      background-color: #E2EBFA;\n",
              "      box-shadow: 0px 1px 2px rgba(60, 64, 67, 0.3), 0px 1px 3px 1px rgba(60, 64, 67, 0.15);\n",
              "      fill: #174EA6;\n",
              "    }\n",
              "\n",
              "    [theme=dark] .colab-df-convert {\n",
              "      background-color: #3B4455;\n",
              "      fill: #D2E3FC;\n",
              "    }\n",
              "\n",
              "    [theme=dark] .colab-df-convert:hover {\n",
              "      background-color: #434B5C;\n",
              "      box-shadow: 0px 1px 3px 1px rgba(0, 0, 0, 0.15);\n",
              "      filter: drop-shadow(0px 1px 2px rgba(0, 0, 0, 0.3));\n",
              "      fill: #FFFFFF;\n",
              "    }\n",
              "  </style>\n",
              "\n",
              "      <script>\n",
              "        const buttonEl =\n",
              "          document.querySelector('#df-208074de-20db-4b60-9bb2-513f5bcd3c8e button.colab-df-convert');\n",
              "        buttonEl.style.display =\n",
              "          google.colab.kernel.accessAllowed ? 'block' : 'none';\n",
              "\n",
              "        async function convertToInteractive(key) {\n",
              "          const element = document.querySelector('#df-208074de-20db-4b60-9bb2-513f5bcd3c8e');\n",
              "          const dataTable =\n",
              "            await google.colab.kernel.invokeFunction('convertToInteractive',\n",
              "                                                     [key], {});\n",
              "          if (!dataTable) return;\n",
              "\n",
              "          const docLinkHtml = 'Like what you see? Visit the ' +\n",
              "            '<a target=\"_blank\" href=https://colab.research.google.com/notebooks/data_table.ipynb>data table notebook</a>'\n",
              "            + ' to learn more about interactive tables.';\n",
              "          element.innerHTML = '';\n",
              "          dataTable['output_type'] = 'display_data';\n",
              "          await google.colab.output.renderOutput(dataTable, element);\n",
              "          const docLink = document.createElement('div');\n",
              "          docLink.innerHTML = docLinkHtml;\n",
              "          element.appendChild(docLink);\n",
              "        }\n",
              "      </script>\n",
              "    </div>\n",
              "  </div>\n",
              "  "
            ]
          },
          "metadata": {},
          "execution_count": 12
        }
      ]
    },
    {
      "cell_type": "markdown",
      "source": [
        "ستون باینری دیابت را به عنوان برچسب جدا کرده و داده‌ی ترین و تست را با نسبت ۰.۸ و ۰.۲ جدا می‌کنیم."
      ],
      "metadata": {
        "id": "yl3SCGDtTnEl"
      }
    },
    {
      "cell_type": "code",
      "source": [
        "X = ds.drop(\"Diabetes_binary\", axis=1)\n",
        "y = ds[\"Diabetes_binary\"]\n",
        "X_train, X_test, y_train, y_test = train_test_split(X, y, test_size=0.2)\n",
        "X_train.shape, X_test.shape, y_train.shape, y_test.shape"
      ],
      "metadata": {
        "id": "xFlfsgIFOoP6",
        "outputId": "b656efc4-1ab3-43b0-f256-43e45cc1db34",
        "execution": {
          "iopub.status.busy": "2022-07-01T23:37:58.082086Z",
          "iopub.execute_input": "2022-07-01T23:37:58.082505Z",
          "iopub.status.idle": "2022-07-01T23:37:58.121050Z",
          "shell.execute_reply.started": "2022-07-01T23:37:58.082472Z",
          "shell.execute_reply": "2022-07-01T23:37:58.120077Z"
        },
        "trusted": true,
        "colab": {
          "base_uri": "https://localhost:8080/"
        }
      },
      "execution_count": 13,
      "outputs": [
        {
          "output_type": "execute_result",
          "data": {
            "text/plain": [
              "((56548, 38), (14138, 38), (56548,), (14138,))"
            ]
          },
          "metadata": {},
          "execution_count": 13
        }
      ]
    },
    {
      "cell_type": "markdown",
      "source": [
        "مدل طبقه‌بند را ساخته و آن را آموزش می‌دهیم."
      ],
      "metadata": {
        "id": "7ff8psN2VdGo"
      }
    },
    {
      "cell_type": "code",
      "source": [
        "model = XGBClassifier(learning_rate=0.1, max_depth=4, n_estimators=200, subsample=0.5, colsample_bytree=1, random_seed=123, eval_metric='auc', verbosity=1)\n",
        "\n",
        "model.fit(X_train, y_train, \n",
        "          early_stopping_rounds=10, \n",
        "          eval_set=[(X_test, y_test)], \n",
        "          verbose=True)"
      ],
      "metadata": {
        "id": "aDc5Z4UPVWuM",
        "outputId": "9000241a-ed27-45ea-f4dd-bc9da4924865",
        "execution": {
          "iopub.status.busy": "2022-07-01T23:38:14.989225Z",
          "iopub.execute_input": "2022-07-01T23:38:14.989620Z",
          "iopub.status.idle": "2022-07-01T23:38:19.399085Z",
          "shell.execute_reply.started": "2022-07-01T23:38:14.989587Z",
          "shell.execute_reply": "2022-07-01T23:38:19.397698Z"
        },
        "trusted": true,
        "colab": {
          "base_uri": "https://localhost:8080/"
        }
      },
      "execution_count": 14,
      "outputs": [
        {
          "output_type": "stream",
          "name": "stdout",
          "text": [
            "[0]\tvalidation_0-auc:0.784367\n",
            "Will train until validation_0-auc hasn't improved in 10 rounds.\n",
            "[1]\tvalidation_0-auc:0.794231\n",
            "[2]\tvalidation_0-auc:0.799957\n",
            "[3]\tvalidation_0-auc:0.803264\n",
            "[4]\tvalidation_0-auc:0.803983\n",
            "[5]\tvalidation_0-auc:0.8068\n",
            "[6]\tvalidation_0-auc:0.8086\n",
            "[7]\tvalidation_0-auc:0.808803\n",
            "[8]\tvalidation_0-auc:0.810417\n",
            "[9]\tvalidation_0-auc:0.812439\n",
            "[10]\tvalidation_0-auc:0.813108\n",
            "[11]\tvalidation_0-auc:0.813496\n",
            "[12]\tvalidation_0-auc:0.814927\n",
            "[13]\tvalidation_0-auc:0.816285\n",
            "[14]\tvalidation_0-auc:0.817311\n",
            "[15]\tvalidation_0-auc:0.818078\n",
            "[16]\tvalidation_0-auc:0.818753\n",
            "[17]\tvalidation_0-auc:0.819288\n",
            "[18]\tvalidation_0-auc:0.820178\n",
            "[19]\tvalidation_0-auc:0.820664\n",
            "[20]\tvalidation_0-auc:0.821177\n",
            "[21]\tvalidation_0-auc:0.821746\n",
            "[22]\tvalidation_0-auc:0.822243\n",
            "[23]\tvalidation_0-auc:0.822779\n",
            "[24]\tvalidation_0-auc:0.823157\n",
            "[25]\tvalidation_0-auc:0.823494\n",
            "[26]\tvalidation_0-auc:0.823872\n",
            "[27]\tvalidation_0-auc:0.82406\n",
            "[28]\tvalidation_0-auc:0.824404\n",
            "[29]\tvalidation_0-auc:0.824619\n",
            "[30]\tvalidation_0-auc:0.824724\n",
            "[31]\tvalidation_0-auc:0.82494\n",
            "[32]\tvalidation_0-auc:0.825087\n",
            "[33]\tvalidation_0-auc:0.825216\n",
            "[34]\tvalidation_0-auc:0.825216\n",
            "[35]\tvalidation_0-auc:0.82535\n",
            "[36]\tvalidation_0-auc:0.82549\n",
            "[37]\tvalidation_0-auc:0.82553\n",
            "[38]\tvalidation_0-auc:0.825628\n",
            "[39]\tvalidation_0-auc:0.825723\n",
            "[40]\tvalidation_0-auc:0.825895\n",
            "[41]\tvalidation_0-auc:0.825969\n",
            "[42]\tvalidation_0-auc:0.826104\n",
            "[43]\tvalidation_0-auc:0.826195\n",
            "[44]\tvalidation_0-auc:0.82622\n",
            "[45]\tvalidation_0-auc:0.826279\n",
            "[46]\tvalidation_0-auc:0.82636\n",
            "[47]\tvalidation_0-auc:0.826477\n",
            "[48]\tvalidation_0-auc:0.826544\n",
            "[49]\tvalidation_0-auc:0.826542\n",
            "[50]\tvalidation_0-auc:0.826592\n",
            "[51]\tvalidation_0-auc:0.82663\n",
            "[52]\tvalidation_0-auc:0.826738\n",
            "[53]\tvalidation_0-auc:0.826785\n",
            "[54]\tvalidation_0-auc:0.826858\n",
            "[55]\tvalidation_0-auc:0.826902\n",
            "[56]\tvalidation_0-auc:0.826922\n",
            "[57]\tvalidation_0-auc:0.826972\n",
            "[58]\tvalidation_0-auc:0.826935\n",
            "[59]\tvalidation_0-auc:0.827035\n",
            "[60]\tvalidation_0-auc:0.827069\n",
            "[61]\tvalidation_0-auc:0.827177\n",
            "[62]\tvalidation_0-auc:0.827246\n",
            "[63]\tvalidation_0-auc:0.82729\n",
            "[64]\tvalidation_0-auc:0.827347\n",
            "[65]\tvalidation_0-auc:0.827457\n",
            "[66]\tvalidation_0-auc:0.827481\n",
            "[67]\tvalidation_0-auc:0.827436\n",
            "[68]\tvalidation_0-auc:0.827477\n",
            "[69]\tvalidation_0-auc:0.827484\n",
            "[70]\tvalidation_0-auc:0.827503\n",
            "[71]\tvalidation_0-auc:0.827529\n",
            "[72]\tvalidation_0-auc:0.827595\n",
            "[73]\tvalidation_0-auc:0.827605\n",
            "[74]\tvalidation_0-auc:0.827624\n",
            "[75]\tvalidation_0-auc:0.827663\n",
            "[76]\tvalidation_0-auc:0.827746\n",
            "[77]\tvalidation_0-auc:0.827786\n",
            "[78]\tvalidation_0-auc:0.827789\n",
            "[79]\tvalidation_0-auc:0.827836\n",
            "[80]\tvalidation_0-auc:0.827902\n",
            "[81]\tvalidation_0-auc:0.827904\n",
            "[82]\tvalidation_0-auc:0.827815\n",
            "[83]\tvalidation_0-auc:0.827819\n",
            "[84]\tvalidation_0-auc:0.827834\n",
            "[85]\tvalidation_0-auc:0.827873\n",
            "[86]\tvalidation_0-auc:0.82792\n",
            "[87]\tvalidation_0-auc:0.82793\n",
            "[88]\tvalidation_0-auc:0.827945\n",
            "[89]\tvalidation_0-auc:0.827955\n",
            "[90]\tvalidation_0-auc:0.827963\n",
            "[91]\tvalidation_0-auc:0.827927\n",
            "[92]\tvalidation_0-auc:0.827953\n",
            "[93]\tvalidation_0-auc:0.82792\n",
            "[94]\tvalidation_0-auc:0.827946\n",
            "[95]\tvalidation_0-auc:0.827978\n",
            "[96]\tvalidation_0-auc:0.82801\n",
            "[97]\tvalidation_0-auc:0.828013\n",
            "[98]\tvalidation_0-auc:0.82807\n",
            "[99]\tvalidation_0-auc:0.828076\n",
            "[100]\tvalidation_0-auc:0.82804\n",
            "[101]\tvalidation_0-auc:0.827997\n",
            "[102]\tvalidation_0-auc:0.828053\n",
            "[103]\tvalidation_0-auc:0.828064\n",
            "[104]\tvalidation_0-auc:0.828087\n",
            "[105]\tvalidation_0-auc:0.828058\n",
            "[106]\tvalidation_0-auc:0.828086\n",
            "[107]\tvalidation_0-auc:0.828092\n",
            "[108]\tvalidation_0-auc:0.828111\n",
            "[109]\tvalidation_0-auc:0.828127\n",
            "[110]\tvalidation_0-auc:0.828124\n",
            "[111]\tvalidation_0-auc:0.828134\n",
            "[112]\tvalidation_0-auc:0.82815\n",
            "[113]\tvalidation_0-auc:0.828201\n",
            "[114]\tvalidation_0-auc:0.828197\n",
            "[115]\tvalidation_0-auc:0.828212\n",
            "[116]\tvalidation_0-auc:0.828195\n",
            "[117]\tvalidation_0-auc:0.828248\n",
            "[118]\tvalidation_0-auc:0.828302\n",
            "[119]\tvalidation_0-auc:0.828324\n",
            "[120]\tvalidation_0-auc:0.828328\n",
            "[121]\tvalidation_0-auc:0.828309\n",
            "[122]\tvalidation_0-auc:0.828279\n",
            "[123]\tvalidation_0-auc:0.828242\n",
            "[124]\tvalidation_0-auc:0.828251\n",
            "[125]\tvalidation_0-auc:0.828255\n",
            "[126]\tvalidation_0-auc:0.828199\n",
            "[127]\tvalidation_0-auc:0.828217\n",
            "[128]\tvalidation_0-auc:0.82818\n",
            "[129]\tvalidation_0-auc:0.828238\n",
            "[130]\tvalidation_0-auc:0.828225\n",
            "Stopping. Best iteration:\n",
            "[120]\tvalidation_0-auc:0.828328\n",
            "\n"
          ]
        },
        {
          "output_type": "execute_result",
          "data": {
            "text/plain": [
              "XGBClassifier(eval_metric='auc', max_depth=4, n_estimators=200, random_seed=123,\n",
              "              subsample=0.5)"
            ]
          },
          "metadata": {},
          "execution_count": 14
        }
      ]
    },
    {
      "cell_type": "markdown",
      "source": [
        "حال معیارهای ارزیابی مدل را نشان می‌دهیم."
      ],
      "metadata": {
        "id": "iuBuCuHRXNuJ"
      }
    },
    {
      "cell_type": "code",
      "source": [
        "predict = model.predict(X_test)\n",
        "print(classification_report(y_test, predict))"
      ],
      "metadata": {
        "id": "uP8fxOptWyL1",
        "outputId": "2e4df4f6-ba55-4f49-95a2-d2f1fefe8a35",
        "execution": {
          "iopub.status.busy": "2022-07-01T23:38:21.738180Z",
          "iopub.execute_input": "2022-07-01T23:38:21.738972Z",
          "iopub.status.idle": "2022-07-01T23:38:21.796836Z",
          "shell.execute_reply.started": "2022-07-01T23:38:21.738935Z",
          "shell.execute_reply": "2022-07-01T23:38:21.795677Z"
        },
        "trusted": true,
        "colab": {
          "base_uri": "https://localhost:8080/"
        }
      },
      "execution_count": 15,
      "outputs": [
        {
          "output_type": "stream",
          "name": "stdout",
          "text": [
            "              precision    recall  f1-score   support\n",
            "\n",
            "         0.0       0.77      0.71      0.74      6998\n",
            "         1.0       0.74      0.79      0.76      7140\n",
            "\n",
            "    accuracy                           0.75     14138\n",
            "   macro avg       0.75      0.75      0.75     14138\n",
            "weighted avg       0.75      0.75      0.75     14138\n",
            "\n"
          ]
        }
      ]
    },
    {
      "cell_type": "markdown",
      "source": [
        "ماتریس درهم‌ریختگی مشاهده می‌شود."
      ],
      "metadata": {
        "id": "LU4UvYnvZ0jK"
      }
    },
    {
      "cell_type": "code",
      "source": [
        "print(confusion_matrix(y_test, predict))"
      ],
      "metadata": {
        "id": "Ky_Z4FBcYlGc",
        "outputId": "eb3804f8-0126-42ff-fde3-a6103bdc0ad6",
        "execution": {
          "iopub.status.busy": "2022-07-01T23:38:24.620255Z",
          "iopub.execute_input": "2022-07-01T23:38:24.620640Z",
          "iopub.status.idle": "2022-07-01T23:38:24.649445Z",
          "shell.execute_reply.started": "2022-07-01T23:38:24.620607Z",
          "shell.execute_reply": "2022-07-01T23:38:24.648112Z"
        },
        "trusted": true,
        "colab": {
          "base_uri": "https://localhost:8080/"
        }
      },
      "execution_count": 16,
      "outputs": [
        {
          "output_type": "stream",
          "name": "stdout",
          "text": [
            "[[4986 2012]\n",
            " [1503 5637]]\n"
          ]
        }
      ]
    },
    {
      "cell_type": "markdown",
      "source": [
        "امتیاز مدل مشاهده می‌شود."
      ],
      "metadata": {
        "id": "aY2REGASZ2ni"
      }
    },
    {
      "cell_type": "code",
      "source": [
        "model.score(X_test, y_test)"
      ],
      "metadata": {
        "id": "qrKbxI26ZQpt",
        "outputId": "d6ea1aa8-2c19-447d-f73b-bf63c4a5c348",
        "execution": {
          "iopub.status.busy": "2022-07-01T23:38:27.552440Z",
          "iopub.execute_input": "2022-07-01T23:38:27.552955Z",
          "iopub.status.idle": "2022-07-01T23:38:27.584292Z",
          "shell.execute_reply.started": "2022-07-01T23:38:27.552919Z",
          "shell.execute_reply": "2022-07-01T23:38:27.583022Z"
        },
        "trusted": true,
        "colab": {
          "base_uri": "https://localhost:8080/"
        }
      },
      "execution_count": 17,
      "outputs": [
        {
          "output_type": "execute_result",
          "data": {
            "text/plain": [
              "0.7513792615645777"
            ]
          },
          "metadata": {},
          "execution_count": 17
        }
      ]
    },
    {
      "cell_type": "markdown",
      "source": [
        "هایپرپارامترها را مشاهده می‌کنیم."
      ],
      "metadata": {
        "id": "b2g0mT4CcRZf"
      }
    },
    {
      "cell_type": "code",
      "source": [
        "XGBClassifier().get_params()"
      ],
      "metadata": {
        "id": "458de4be",
        "outputId": "d89d2b1f-d740-4a06-bf6a-2d77370b561a",
        "execution": {
          "iopub.status.busy": "2022-07-01T23:38:30.032609Z",
          "iopub.execute_input": "2022-07-01T23:38:30.033036Z",
          "iopub.status.idle": "2022-07-01T23:38:30.043097Z",
          "shell.execute_reply.started": "2022-07-01T23:38:30.033003Z",
          "shell.execute_reply": "2022-07-01T23:38:30.041736Z"
        },
        "trusted": true,
        "colab": {
          "base_uri": "https://localhost:8080/"
        }
      },
      "execution_count": 18,
      "outputs": [
        {
          "output_type": "execute_result",
          "data": {
            "text/plain": [
              "{'base_score': 0.5,\n",
              " 'booster': 'gbtree',\n",
              " 'colsample_bylevel': 1,\n",
              " 'colsample_bynode': 1,\n",
              " 'colsample_bytree': 1,\n",
              " 'gamma': 0,\n",
              " 'learning_rate': 0.1,\n",
              " 'max_delta_step': 0,\n",
              " 'max_depth': 3,\n",
              " 'min_child_weight': 1,\n",
              " 'missing': None,\n",
              " 'n_estimators': 100,\n",
              " 'n_jobs': 1,\n",
              " 'nthread': None,\n",
              " 'objective': 'binary:logistic',\n",
              " 'random_state': 0,\n",
              " 'reg_alpha': 0,\n",
              " 'reg_lambda': 1,\n",
              " 'scale_pos_weight': 1,\n",
              " 'seed': None,\n",
              " 'silent': None,\n",
              " 'subsample': 1,\n",
              " 'verbosity': 1}"
            ]
          },
          "metadata": {},
          "execution_count": 18
        }
      ]
    },
    {
      "cell_type": "markdown",
      "source": [
        "مدل را با ترکیب‌های مختلفی از پارامترهای داده شده تست می‌کنیم.\n",
        "بهترین مدل را به دست می‌آوریم.\n",
        "دقت داده‌های تست و آزمون و معیارهای ارزیابی را نشان می‌دهیم."
      ],
      "metadata": {
        "id": "FMkiZxE_rmvr"
      }
    },
    {
      "cell_type": "code",
      "source": [
        "params={\n",
        "    'learning_rate': [0.02, 0.05, 0.1, 0.3],\n",
        "    'max_depth': [2, 3, 4],\n",
        "    'n_estimators': [100, 200, 300],\n",
        "    'colsample_bytree': [0.8, 1]\n",
        "}\n",
        "def my_roc_auc_score(model, X, y): return roc_auc_score(y, model.predict_proba(X)[:,1])\n",
        "grids = GridSearchCV(model,param_grid=params,scoring=my_roc_auc_score,cv=3)\n",
        "grids.fit(X_train, y_train) \n",
        "grids.best_params_"
      ],
      "metadata": {
        "id": "OP0lJJ9h31At",
        "outputId": "4aa41ec6-6c6a-4aa2-f986-41037ac26407",
        "execution": {
          "iopub.status.busy": "2022-07-02T01:38:02.042457Z",
          "iopub.execute_input": "2022-07-02T01:38:02.042921Z",
          "iopub.status.idle": "2022-07-02T01:52:03.374366Z",
          "shell.execute_reply.started": "2022-07-02T01:38:02.042885Z",
          "shell.execute_reply": "2022-07-02T01:52:03.372802Z"
        },
        "trusted": true,
        "colab": {
          "base_uri": "https://localhost:8080/"
        }
      },
      "execution_count": 19,
      "outputs": [
        {
          "output_type": "execute_result",
          "data": {
            "text/plain": [
              "{'colsample_bytree': 1,\n",
              " 'learning_rate': 0.05,\n",
              " 'max_depth': 3,\n",
              " 'n_estimators': 300}"
            ]
          },
          "metadata": {},
          "execution_count": 19
        }
      ]
    },
    {
      "cell_type": "code",
      "source": [
        "grids.best_score_"
      ],
      "metadata": {
        "id": "zB0RcG9j31Av",
        "outputId": "c6e7c23e-9258-4df5-aba1-6f4e7a66ba51",
        "execution": {
          "iopub.status.busy": "2022-07-02T01:55:21.275568Z",
          "iopub.execute_input": "2022-07-02T01:55:21.276017Z",
          "iopub.status.idle": "2022-07-02T01:55:21.285208Z",
          "shell.execute_reply.started": "2022-07-02T01:55:21.275980Z",
          "shell.execute_reply": "2022-07-02T01:55:21.283857Z"
        },
        "trusted": true,
        "colab": {
          "base_uri": "https://localhost:8080/"
        }
      },
      "execution_count": 20,
      "outputs": [
        {
          "output_type": "execute_result",
          "data": {
            "text/plain": [
              "0.8314622443283408"
            ]
          },
          "metadata": {},
          "execution_count": 20
        }
      ]
    },
    {
      "cell_type": "code",
      "source": [
        "grids.best_estimator_.score(X_test, y_test)"
      ],
      "metadata": {
        "id": "tQQ6BgPv31Av",
        "outputId": "9c9484be-237f-4cbb-fe18-ef2b4621b98c",
        "execution": {
          "iopub.status.busy": "2022-07-02T01:55:25.609464Z",
          "iopub.execute_input": "2022-07-02T01:55:25.610763Z",
          "iopub.status.idle": "2022-07-02T01:55:25.653281Z",
          "shell.execute_reply.started": "2022-07-02T01:55:25.610704Z",
          "shell.execute_reply": "2022-07-02T01:55:25.651713Z"
        },
        "trusted": true,
        "colab": {
          "base_uri": "https://localhost:8080/"
        }
      },
      "execution_count": 21,
      "outputs": [
        {
          "output_type": "execute_result",
          "data": {
            "text/plain": [
              "0.7515207242891498"
            ]
          },
          "metadata": {},
          "execution_count": 21
        }
      ]
    },
    {
      "cell_type": "code",
      "source": [
        "grids_predict = grids.predict(X_test) \n",
        "print(classification_report(y_test, grids_predict))"
      ],
      "metadata": {
        "id": "EbQZRVB_31Aw",
        "outputId": "6626946c-fef9-4922-95d6-4449a358ebaf",
        "execution": {
          "iopub.status.busy": "2022-07-02T01:55:28.105290Z",
          "iopub.execute_input": "2022-07-02T01:55:28.105741Z",
          "iopub.status.idle": "2022-07-02T01:55:28.179199Z",
          "shell.execute_reply.started": "2022-07-02T01:55:28.105689Z",
          "shell.execute_reply": "2022-07-02T01:55:28.177693Z"
        },
        "trusted": true,
        "colab": {
          "base_uri": "https://localhost:8080/"
        }
      },
      "execution_count": 22,
      "outputs": [
        {
          "output_type": "stream",
          "name": "stdout",
          "text": [
            "              precision    recall  f1-score   support\n",
            "\n",
            "         0.0       0.76      0.72      0.74      6998\n",
            "         1.0       0.74      0.78      0.76      7140\n",
            "\n",
            "    accuracy                           0.75     14138\n",
            "   macro avg       0.75      0.75      0.75     14138\n",
            "weighted avg       0.75      0.75      0.75     14138\n",
            "\n"
          ]
        }
      ]
    },
    {
      "cell_type": "markdown",
      "source": [
        " ماتریس درهم‌ریختگی مشاهده می‌شود."
      ],
      "metadata": {
        "id": "6A6cYXLsr08Z"
      }
    },
    {
      "cell_type": "code",
      "source": [
        "y_true= y_test\n",
        "cf_matrix=confusion_matrix(y_true,grids_predict)\n",
        "cf_matrix\n"
      ],
      "metadata": {
        "id": "SbKjuXp431Ax",
        "outputId": "d9e7ab66-c8b0-436c-d4a8-db14fd8c63ee",
        "execution": {
          "iopub.status.busy": "2022-07-02T00:00:10.170740Z",
          "iopub.execute_input": "2022-07-02T00:00:10.172012Z",
          "iopub.status.idle": "2022-07-02T00:00:10.200006Z",
          "shell.execute_reply.started": "2022-07-02T00:00:10.171948Z",
          "shell.execute_reply": "2022-07-02T00:00:10.198683Z"
        },
        "trusted": true,
        "colab": {
          "base_uri": "https://localhost:8080/"
        }
      },
      "execution_count": 23,
      "outputs": [
        {
          "output_type": "execute_result",
          "data": {
            "text/plain": [
              "array([[5033, 1965],\n",
              "       [1548, 5592]])"
            ]
          },
          "metadata": {},
          "execution_count": 23
        }
      ]
    },
    {
      "cell_type": "markdown",
      "source": [
        "حال تغییرات پارامترهای بخش قبل را بر روی نمودار می‌بریم تا مشخص شود که چه تاثیری  بر امتیاز می‌گذارد."
      ],
      "metadata": {
        "id": "ZsloM1ksr08a"
      }
    },
    {
      "cell_type": "code",
      "source": [
        "param_list = ['learning_rate', 'max_depth', 'n_estimators', 'colsample_bytree'] \n",
        "change = {i: [grids.best_params_[i]] for i in params.keys()}\n",
        "gridse = {}\n",
        "\n",
        "td = change.copy()\n",
        "td['learning_rate'] = params['learning_rate']\n",
        "gridse['learning_rate'] = GridSearchCV(estimator=model, param_grid=td, cv=3, scoring=my_roc_auc_score).fit(X_train, y_train)\n",
        "plt.plot(params['learning_rate'], gridse['learning_rate'].cv_results_['mean_test_score'])\n",
        "plt.xlabel('learning_rate')\n",
        "plt.ylabel(\"score\")"
      ],
      "metadata": {
        "execution": {
          "iopub.status.busy": "2022-07-02T01:55:43.581967Z",
          "iopub.execute_input": "2022-07-02T01:55:43.582342Z",
          "iopub.status.idle": "2022-07-02T01:56:31.195618Z",
          "shell.execute_reply.started": "2022-07-02T01:55:43.582310Z",
          "shell.execute_reply": "2022-07-02T01:56:31.193721Z"
        },
        "trusted": true,
        "colab": {
          "base_uri": "https://localhost:8080/",
          "height": 297
        },
        "id": "vYRQgn91r08b",
        "outputId": "94f156c8-f1c5-490f-f1d7-5357cbeda6ba"
      },
      "execution_count": 24,
      "outputs": [
        {
          "output_type": "execute_result",
          "data": {
            "text/plain": [
              "Text(0, 0.5, 'score')"
            ]
          },
          "metadata": {},
          "execution_count": 24
        },
        {
          "output_type": "display_data",
          "data": {
            "text/plain": [
              "<Figure size 432x288 with 1 Axes>"
            ],
            "image/png": "[encoded data removed]"
          },
          "metadata": {
            "needs_background": "light"
          }
        }
      ]
    },
    {
      "cell_type": "code",
      "source": [
        "td = change.copy()\n",
        "td['max_depth'] = params['max_depth']\n",
        "gridse['max_depth'] = GridSearchCV(estimator=model, param_grid=td, cv=3, scoring=my_roc_auc_score).fit(X_train, y_train)\n",
        "plt.plot(params['max_depth'], gridse['max_depth'].cv_results_['mean_test_score'])\n",
        "plt.xlabel('max_depth')\n",
        "plt.ylabel(\"score\")"
      ],
      "metadata": {
        "execution": {
          "iopub.status.busy": "2022-07-02T01:56:38.041251Z",
          "iopub.execute_input": "2022-07-02T01:56:38.041670Z",
          "iopub.status.idle": "2022-07-02T01:57:15.595235Z",
          "shell.execute_reply.started": "2022-07-02T01:56:38.041620Z",
          "shell.execute_reply": "2022-07-02T01:57:15.593740Z"
        },
        "trusted": true,
        "colab": {
          "base_uri": "https://localhost:8080/",
          "height": 297
        },
        "id": "mEp09RYOr08b",
        "outputId": "16ca6a74-8d36-40ac-cae9-896a5a75bb5d"
      },
      "execution_count": 25,
      "outputs": [
        {
          "output_type": "execute_result",
          "data": {
            "text/plain": [
              "Text(0, 0.5, 'score')"
            ]
          },
          "metadata": {},
          "execution_count": 25
        },
        {
          "output_type": "display_data",
          "data": {
            "text/plain": [
              "<Figure size 432x288 with 1 Axes>"
            ],
            "image/png": "[encoded data removed]"
          },
          "metadata": {
            "needs_background": "light"
          }
        }
      ]
    },
    {
      "cell_type": "code",
      "source": [
        "td = change.copy()\n",
        "td['n_estimators'] = params['n_estimators']\n",
        "gridse['n_estimators'] = GridSearchCV(estimator=model, param_grid=td, cv=3, scoring=my_roc_auc_score).fit(X_train, y_train)\n",
        "plt.plot(params['n_estimators'], gridse['n_estimators'].cv_results_['mean_test_score'])\n",
        "plt.xlabel('n_estimators')\n",
        "plt.ylabel(\"score\")\n",
        "\n"
      ],
      "metadata": {
        "execution": {
          "iopub.status.busy": "2022-07-02T01:57:21.443405Z",
          "iopub.execute_input": "2022-07-02T01:57:21.444012Z",
          "iopub.status.idle": "2022-07-02T01:57:59.396035Z",
          "shell.execute_reply.started": "2022-07-02T01:57:21.443968Z",
          "shell.execute_reply": "2022-07-02T01:57:59.394684Z"
        },
        "trusted": true,
        "colab": {
          "base_uri": "https://localhost:8080/",
          "height": 297
        },
        "id": "MH_Vqd3Rr08c",
        "outputId": "b91aaddd-eb55-4b3c-fd86-1222cdc4ff7b"
      },
      "execution_count": 26,
      "outputs": [
        {
          "output_type": "execute_result",
          "data": {
            "text/plain": [
              "Text(0, 0.5, 'score')"
            ]
          },
          "metadata": {},
          "execution_count": 26
        },
        {
          "output_type": "display_data",
          "data": {
            "text/plain": [
              "<Figure size 432x288 with 1 Axes>"
            ],
            "image/png": "[encoded data removed]"
          },
          "metadata": {
            "needs_background": "light"
          }
        }
      ]
    },
    {
      "cell_type": "code",
      "source": [
        "td = change.copy()\n",
        "td['colsample_bytree'] = params['colsample_bytree']\n",
        "gridse['colsample_bytree'] = GridSearchCV(estimator=model, param_grid=td, cv=3, scoring=my_roc_auc_score).fit(X_train, y_train)\n",
        "plt.plot(params['colsample_bytree'], gridse['colsample_bytree'].cv_results_['mean_test_score'])\n",
        "plt.xlabel('colsample_bytree')\n",
        "plt.ylabel(\"score\")"
      ],
      "metadata": {
        "execution": {
          "iopub.status.busy": "2022-07-02T01:58:03.206704Z",
          "iopub.execute_input": "2022-07-02T01:58:03.207110Z",
          "iopub.status.idle": "2022-07-02T01:58:31.921900Z",
          "shell.execute_reply.started": "2022-07-02T01:58:03.207074Z",
          "shell.execute_reply": "2022-07-02T01:58:31.920600Z"
        },
        "trusted": true,
        "colab": {
          "base_uri": "https://localhost:8080/",
          "height": 297
        },
        "id": "_8fCXDskr08c",
        "outputId": "c8f8dc8c-353a-42ff-db9c-9c1217b3c372"
      },
      "execution_count": 27,
      "outputs": [
        {
          "output_type": "execute_result",
          "data": {
            "text/plain": [
              "Text(0, 0.5, 'score')"
            ]
          },
          "metadata": {},
          "execution_count": 27
        },
        {
          "output_type": "display_data",
          "data": {
            "text/plain": [
              "<Figure size 432x288 with 1 Axes>"
            ],
            "image/png": "[encoded data removed]"
          },
          "metadata": {
            "needs_background": "light"
          }
        }
      ]
    }
  ]
}